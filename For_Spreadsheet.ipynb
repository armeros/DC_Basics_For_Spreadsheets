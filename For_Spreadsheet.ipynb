{
  "nbformat": 4,
  "nbformat_minor": 0,
  "metadata": {
    "colab": {
      "name": "For_Spreadsheet",
      "provenance": [],
      "collapsed_sections": []
    },
    "kernelspec": {
      "name": "python3",
      "display_name": "Python 3"
    },
    "language_info": {
      "name": "python"
    }
  },
  "cells": [
    {
      "cell_type": "markdown",
      "metadata": {
        "id": "XX17myP0TxBF"
      },
      "source": [
        "# **Importing packages**"
      ]
    },
    {
      "cell_type": "code",
      "metadata": {
        "colab": {
          "base_uri": "https://localhost:8080/",
          "height": 422
        },
        "id": "CbmSw8vwTu3H",
        "outputId": "a3d6be75-b859-4235-c5f0-f19f649f0919"
      },
      "source": [
        "import pandas as pd\n",
        "\n",
        "pd.read_excel(\"movies.xlsx\").sort_values(by=\"ticket_quantity\", ascending=True)"
      ],
      "execution_count": 3,
      "outputs": [
        {
          "output_type": "execute_result",
          "data": {
            "text/html": [
              "<div>\n",
              "<style scoped>\n",
              "    .dataframe tbody tr th:only-of-type {\n",
              "        vertical-align: middle;\n",
              "    }\n",
              "\n",
              "    .dataframe tbody tr th {\n",
              "        vertical-align: top;\n",
              "    }\n",
              "\n",
              "    .dataframe thead th {\n",
              "        text-align: right;\n",
              "    }\n",
              "</style>\n",
              "<table border=\"1\" class=\"dataframe\">\n",
              "  <thead>\n",
              "    <tr style=\"text-align: right;\">\n",
              "      <th></th>\n",
              "      <th>theater_name</th>\n",
              "      <th>movie_title</th>\n",
              "      <th>ticket_type</th>\n",
              "      <th>ticket_quantity</th>\n",
              "    </tr>\n",
              "  </thead>\n",
              "  <tbody>\n",
              "    <tr>\n",
              "      <th>577</th>\n",
              "      <td>The Frame</td>\n",
              "      <td>Kung Fu pandas</td>\n",
              "      <td>senior</td>\n",
              "      <td>1</td>\n",
              "    </tr>\n",
              "    <tr>\n",
              "      <th>360</th>\n",
              "      <td>The Empirical House</td>\n",
              "      <td>Harry Plotter</td>\n",
              "      <td>child</td>\n",
              "      <td>1</td>\n",
              "    </tr>\n",
              "    <tr>\n",
              "      <th>836</th>\n",
              "      <td>The Frame</td>\n",
              "      <td>10 Things I Hate About Unix</td>\n",
              "      <td>adult</td>\n",
              "      <td>1</td>\n",
              "    </tr>\n",
              "    <tr>\n",
              "      <th>838</th>\n",
              "      <td>The Frame</td>\n",
              "      <td>10 Things I Hate About Unix</td>\n",
              "      <td>senior</td>\n",
              "      <td>1</td>\n",
              "    </tr>\n",
              "    <tr>\n",
              "      <th>356</th>\n",
              "      <td>The Empirical House</td>\n",
              "      <td>Mamma Median!</td>\n",
              "      <td>adult</td>\n",
              "      <td>1</td>\n",
              "    </tr>\n",
              "    <tr>\n",
              "      <th>...</th>\n",
              "      <td>...</td>\n",
              "      <td>...</td>\n",
              "      <td>...</td>\n",
              "      <td>...</td>\n",
              "    </tr>\n",
              "    <tr>\n",
              "      <th>394</th>\n",
              "      <td>The Frame</td>\n",
              "      <td>Kung Fu pandas</td>\n",
              "      <td>adult</td>\n",
              "      <td>4</td>\n",
              "    </tr>\n",
              "    <tr>\n",
              "      <th>397</th>\n",
              "      <td>The Frame</td>\n",
              "      <td>Kung Fu pandas</td>\n",
              "      <td>adult</td>\n",
              "      <td>4</td>\n",
              "    </tr>\n",
              "    <tr>\n",
              "      <th>405</th>\n",
              "      <td>Sumdance Cinemas</td>\n",
              "      <td>The Sumif All Fears</td>\n",
              "      <td>adult</td>\n",
              "      <td>4</td>\n",
              "    </tr>\n",
              "    <tr>\n",
              "      <th>109</th>\n",
              "      <td>The Frame</td>\n",
              "      <td>10 Things I Hate About Unix</td>\n",
              "      <td>adult</td>\n",
              "      <td>4</td>\n",
              "    </tr>\n",
              "    <tr>\n",
              "      <th>0</th>\n",
              "      <td>Sumdance Cinemas</td>\n",
              "      <td>Harry Plotter</td>\n",
              "      <td>senior</td>\n",
              "      <td>4</td>\n",
              "    </tr>\n",
              "  </tbody>\n",
              "</table>\n",
              "<p>1155 rows × 4 columns</p>\n",
              "</div>"
            ],
            "text/plain": [
              "            theater_name  ... ticket_quantity\n",
              "577            The Frame  ...               1\n",
              "360  The Empirical House  ...               1\n",
              "836            The Frame  ...               1\n",
              "838            The Frame  ...               1\n",
              "356  The Empirical House  ...               1\n",
              "..                   ...  ...             ...\n",
              "394            The Frame  ...               4\n",
              "397            The Frame  ...               4\n",
              "405     Sumdance Cinemas  ...               4\n",
              "109            The Frame  ...               4\n",
              "0       Sumdance Cinemas  ...               4\n",
              "\n",
              "[1155 rows x 4 columns]"
            ]
          },
          "metadata": {
            "tags": []
          },
          "execution_count": 3
        }
      ]
    },
    {
      "cell_type": "markdown",
      "metadata": {
        "id": "-nW9dgWVVmfR"
      },
      "source": [
        "# **DataFrame Methods**\n",
        "\n",
        "*  `.head()`\n",
        "*  `.info()`\n",
        "*  `.describe()`\n",
        "*  `.sort_values()`\n",
        "\n",
        "# **Filtering**\n",
        "* Filter the `movie_title` column of sales for only `Harry Plotter`\n"
      ]
    },
    {
      "cell_type": "code",
      "metadata": {
        "colab": {
          "base_uri": "https://localhost:8080/"
        },
        "id": "BqAjrgBDUajJ",
        "outputId": "a564c232-916c-4ba7-943b-b82f9107507b"
      },
      "source": [
        "# Import the pandas package as pd\n",
        "import pandas as pd\n",
        "\n",
        "# Read in the Excel file\n",
        "sales = pd.read_excel('movies.xlsx')\n",
        "\n",
        "# Filter for New York sales only\n",
        "new_york_sales = sales[sales[\"movie_title\"] == \"Harry Plotter\"].reset_index(drop=True)\n",
        "\n",
        "# Print the first 5 rows of new_york_sales\n",
        "print(new_york_sales.head())"
      ],
      "execution_count": 1,
      "outputs": [
        {
          "output_type": "stream",
          "text": [
            "                      theater_name    movie_title ticket_type  ticket_quantity\n",
            "0                 Sumdance Cinemas  Harry Plotter      senior                4\n",
            "1                 Sumdance Cinemas  Harry Plotter       adult                2\n",
            "2                        The Frame  Harry Plotter      senior                2\n",
            "3                 Sumdance Cinemas  Harry Plotter       child                1\n",
            "4  Richie's Famous Minimax Theatre  Harry Plotter       child                1\n"
          ],
          "name": "stdout"
        }
      ]
    },
    {
      "cell_type": "markdown",
      "metadata": {
        "id": "WKSRIk4eanjX"
      },
      "source": [
        "#   **Creating Columns**\n",
        "\n",
        "* Create a new column in `sales` called `sales_usd`, equal to `ticket_quantity` multiplied by `20`.\n",
        "Print the head of `sales`."
      ]
    },
    {
      "cell_type": "code",
      "metadata": {
        "colab": {
          "base_uri": "https://localhost:8080/"
        },
        "id": "91I3_p0paL_u",
        "outputId": "98ddba39-40ba-47a6-ace9-2a3cc7bde600"
      },
      "source": [
        "# Import the pandas package as pd\n",
        "import pandas as pd\n",
        "\n",
        "# Read in the Excel file\n",
        "sales = pd.read_excel('movies.xlsx')\n",
        "\n",
        "# Create a sales_usd column\n",
        "sales[\"sales_usd\"] = sales[\"ticket_quantity\"] * 20\n",
        "\n",
        "# Print the head of sales\n",
        "print(sales.head())"
      ],
      "execution_count": 2,
      "outputs": [
        {
          "output_type": "stream",
          "text": [
            "          theater_name                  movie_title  ... ticket_quantity  sales_usd\n",
            "0     Sumdance Cinemas                Harry Plotter  ...               4         80\n",
            "1  The Empirical House  10 Things I Hate About Unix  ...               2         40\n",
            "2  The Empirical House         The Seaborn Identity  ...               4         80\n",
            "3     Sumdance Cinemas  10 Things I Hate About Unix  ...               2         40\n",
            "4  The Empirical House                Mamma Median!  ...               2         40\n",
            "\n",
            "[5 rows x 5 columns]\n"
          ],
          "name": "stdout"
        }
      ]
    },
    {
      "cell_type": "markdown",
      "metadata": {
        "id": "NNt_Vc-Vc6AT"
      },
      "source": [
        "#  **Pivoting in spreadsheets**\n",
        "\n",
        "In spreadsheets, to `pivot` the data, we'd highlight the raw table, insert a `pivot table`, then use the `pivot table` editor to create a summarized view of our raw data.\n",
        "\n",
        "#  **Using pivot table rows in spreadsheets**\n",
        "\n",
        "* It's most common to drag some `qualitative` field into the `rows section` of the Pivot Table Editor.\n",
        "\n",
        "# **A simple pivot table in Python - `.groupby().sum()`**\n",
        "\n",
        "  *  Use `.groupby()` and `.sum()` to create a summary table of ticket sales by `ticket_type`.\n",
        "  * Print the result, `ticket_type_summary`, to the console."
      ]
    },
    {
      "cell_type": "code",
      "metadata": {
        "colab": {
          "base_uri": "https://localhost:8080/"
        },
        "id": "wDop3zNabKII",
        "outputId": "27e0a55e-93b3-4469-c254-02d8981b00ca"
      },
      "source": [
        "import pandas as pd\n",
        "\n",
        "sales = pd.read_excel(\"movies.xlsx\")\n",
        "\n",
        "# Create summary by ticket type\n",
        "ticket_type_summary = sales.groupby(\"ticket_type\", as_index=False).sum()\n",
        "\n",
        "# Print ticket_type_summary\n",
        "print(ticket_type_summary)"
      ],
      "execution_count": 5,
      "outputs": [
        {
          "output_type": "stream",
          "text": [
            "  ticket_type  ticket_quantity\n",
            "0       adult             1383\n",
            "1       child              487\n",
            "2      senior              435\n"
          ],
          "name": "stdout"
        }
      ]
    },
    {
      "cell_type": "markdown",
      "metadata": {
        "id": "awu-t8Cgf4T9"
      },
      "source": [
        "# **Summarizing and sorting values**\n",
        "\n",
        "*  Use `.groupby()` and `.sum()` to create a summary table by `ticket_type`.\n",
        "*  Use `.sort_values()` and the proper arguments to sort by `ticket_quantity` in descending order.\n",
        "*  Print genres_sorted."
      ]
    },
    {
      "cell_type": "code",
      "metadata": {
        "colab": {
          "base_uri": "https://localhost:8080/"
        },
        "id": "gMSXnrMufve-",
        "outputId": "e891194a-4ed9-4b67-f0f9-bd6b40306ecb"
      },
      "source": [
        "# Create a summary by movie_title\n",
        "import pandas as pd\n",
        "\n",
        "sales = pd.read_excel(\"movies.xlsx\")\n",
        "genre_summary = sales.groupby(\"movie_title\",as_index=False).sum()\n",
        "\n",
        "# Sort summary in descending order of tickets sold\n",
        "genres_sorted = genre_summary.sort_values(by=\"ticket_quantity\", ascending=False).reset_index(drop=True)\n",
        "\n",
        "# Print the sorted summary\n",
        "print(genres_sorted)"
      ],
      "execution_count": 7,
      "outputs": [
        {
          "output_type": "stream",
          "text": [
            "                       movie_title  ticket_quantity\n",
            "0             The Seaborn Identity              352\n",
            "1                     The Matrices              343\n",
            "2      10 Things I Hate About Unix              331\n",
            "3                    Mamma Median!              323\n",
            "4                    Harry Plotter              292\n",
            "5                   Kung Fu pandas              253\n",
            "6              The Sumif All Fears              156\n",
            "7  There's Something About Merging              149\n",
            "8           While You Were Sorting              106\n"
          ],
          "name": "stdout"
        }
      ]
    },
    {
      "cell_type": "markdown",
      "metadata": {
        "id": "qlC7iXXz6WwH"
      },
      "source": [
        "*  Create a list that contains column names `theater_name` and `ticket_type` and assign it to a variable groups.\n",
        "*  Use `.groupby()` and `.sum()` with the proper arguments\n"
      ]
    },
    {
      "cell_type": "code",
      "metadata": {
        "colab": {
          "base_uri": "https://localhost:8080/"
        },
        "id": "hP6yPlhKgwlm",
        "outputId": "4a89f884-7c7b-4064-e20b-36870467d582"
      },
      "source": [
        "# Create a list of groups to group by\n",
        "import pandas as pd\n",
        "\n",
        "sales = pd.read_excel(\"movies.xlsx\")\n",
        "groups = [\"theater_name\",  \"ticket_type\"]\n",
        "\n",
        "# Create summary table of genres and locations\n",
        "by_location_genre = sales.groupby(groups, as_index=False).sum()\n",
        "\n",
        "# Print the summary table\n",
        "print(by_location_genre)"
      ],
      "execution_count": 9,
      "outputs": [
        {
          "output_type": "stream",
          "text": [
            "                       theater_name ticket_type  ticket_quantity\n",
            "0   Richie's Famous Minimax Theatre       adult              334\n",
            "1   Richie's Famous Minimax Theatre       child              116\n",
            "2   Richie's Famous Minimax Theatre      senior              122\n",
            "3                  Sumdance Cinemas       adult              330\n",
            "4                  Sumdance Cinemas       child              153\n",
            "5                  Sumdance Cinemas      senior              101\n",
            "6               The Empirical House       adult              356\n",
            "7               The Empirical House       child               95\n",
            "8               The Empirical House      senior              103\n",
            "9                         The Frame       adult              363\n",
            "10                        The Frame       child              123\n",
            "11                        The Frame      senior              109\n"
          ],
          "name": "stdout"
        }
      ]
    },
    {
      "cell_type": "markdown",
      "metadata": {
        "id": "KiKjlj2b8IXx"
      },
      "source": [
        "*  Group by `movie_title` and `ticket_type` to create `movies_by_ticket_type`.\n",
        "*  Filter for where `ticket_type` is `senior` to create `senior_ticket_movies`.\n",
        "*  Sort by `ticket_quantity` in descending order to create `ordered_senior_movies`."
      ]
    },
    {
      "cell_type": "code",
      "metadata": {
        "colab": {
          "base_uri": "https://localhost:8080/"
        },
        "id": "vjQhCGlv7LVm",
        "outputId": "ae5ce1a7-3d22-4203-e210-a0b387d3a7bd"
      },
      "source": [
        "import pandas as pd\n",
        "\n",
        "sales = pd.read_excel(\"movies.xlsx\")\n",
        "\n",
        "# Summarize by movie title and ticket type\n",
        "movies_by_ticket_type = sales.groupby([\"movie_title\", \"ticket_type\"], as_index=False).sum()\n",
        "\n",
        "# Filter for senior tickets\n",
        "senior_ticket_movies = movies_by_ticket_type[movies_by_ticket_type[\"ticket_type\"] == \"senior\"].reset_index(drop=True)\n",
        "\n",
        "# Sort senior ticket sales descending\n",
        "ordered_senior_movies = senior_ticket_movies.sort_values(by=\"ticket_quantity\", ascending=False).reset_index(drop=True)\n",
        "\n",
        "# Print the top 3 rows of the ordered table\n",
        "print(ordered_senior_movies.head(3))"
      ],
      "execution_count": 11,
      "outputs": [
        {
          "output_type": "stream",
          "text": [
            "                   movie_title ticket_type  ticket_quantity\n",
            "0  10 Things I Hate About Unix      senior               86\n",
            "1                 The Matrices      senior               71\n",
            "2                Harry Plotter      senior               69\n"
          ],
          "name": "stdout"
        }
      ]
    },
    {
      "cell_type": "markdown",
      "metadata": {
        "id": "d2OBjGr2_6Xr"
      },
      "source": [
        "# **Best selling by theater name**"
      ]
    },
    {
      "cell_type": "code",
      "metadata": {
        "colab": {
          "base_uri": "https://localhost:8080/"
        },
        "id": "UJn7f2M88FcS",
        "outputId": "f9ab86d4-5afd-498e-a2ec-d54c9e665e06"
      },
      "source": [
        "import pandas as pd\n",
        "\n",
        "sales = pd.read_excel(\"movies.xlsx\")\n",
        "\n",
        "# Create a summary by theater name and movie title\n",
        "totals = sales.groupby([\"theater_name\", \"movie_title\"], as_index=False).sum()\n",
        "\n",
        "# Sort totals by ticket quantity in descending order\n",
        "totals_sorted = totals.sort_values(by=\"ticket_quantity\", ascending=False).reset_index(drop=True)\n",
        "\n",
        "# Take the top row for each theater location\n",
        "top_movies = totals_sorted.groupby(\"theater_name\").head(1).reset_index(drop=True)\n",
        "\n",
        "# Print results\n",
        "print(top_movies)"
      ],
      "execution_count": 13,
      "outputs": [
        {
          "output_type": "stream",
          "text": [
            "                      theater_name  ... ticket_quantity\n",
            "0                 Sumdance Cinemas  ...             114\n",
            "1              The Empirical House  ...             114\n",
            "2  Richie's Famous Minimax Theatre  ...              97\n",
            "3                        The Frame  ...              92\n",
            "\n",
            "[4 rows x 3 columns]\n"
          ],
          "name": "stdout"
        }
      ]
    },
    {
      "cell_type": "markdown",
      "metadata": {
        "id": "XsZiaKgTAEOB"
      },
      "source": [
        "# **Which movie averages the most sales**"
      ]
    },
    {
      "cell_type": "code",
      "metadata": {
        "colab": {
          "base_uri": "https://localhost:8080/"
        },
        "id": "cshWfSUQ_wfq",
        "outputId": "c288e35b-2b53-4cb6-96c3-840d15a699d9"
      },
      "source": [
        "import pandas as pd\n",
        "\n",
        "sales = pd.read_excel(\"movies.xlsx\")\n",
        "\n",
        "# Summary of movies and locations\n",
        "theater_movie_summary = sales.groupby(['theater_name', 'movie_title'], as_index=False).sum()\n",
        "\n",
        "# Get average ticket sales by movie title\n",
        "avg_sale_by_movie = theater_movie_summary.groupby(\"movie_title\", as_index=False).mean()\n",
        "\n",
        "# Sort average ticket sales in descending order\n",
        "movies_sorted = avg_sale_by_movie.sort_values(by=\"ticket_quantity\", ascending=False).reset_index(drop=True)\n",
        "\n",
        "# Print results\n",
        "print(movies_sorted.head(1))"
      ],
      "execution_count": 14,
      "outputs": [
        {
          "output_type": "stream",
          "text": [
            "            movie_title  ticket_quantity\n",
            "0  The Seaborn Identity             88.0\n"
          ],
          "name": "stdout"
        }
      ]
    },
    {
      "cell_type": "markdown",
      "metadata": {
        "id": "Fo2cSiRa1aOk"
      },
      "source": [
        "# **`pd.ExcelFile()`**\n",
        "\n",
        "* `pd.read_excel()` can read only the first tab.\n",
        "*  `pd.ExcelFile()`  can read in either the ***entire*** workbook or some tabs into an excel file object\n",
        "\n",
        "## **`.sheet_names attribute`**\n",
        "\n"
      ]
    },
    {
      "cell_type": "code",
      "metadata": {
        "colab": {
          "base_uri": "https://localhost:8080/"
        },
        "id": "SPHKxXE_ApWQ",
        "outputId": "99504fba-93bc-4456-f3bd-fb63fe1030ab"
      },
      "source": [
        "import pandas as pd\n",
        "pd.ExcelFile(\"movies.xlsx\").sheet_names"
      ],
      "execution_count": 1,
      "outputs": [
        {
          "output_type": "execute_result",
          "data": {
            "text/plain": [
              "['sales', 'ticket types', 'theaters', 'movies']"
            ]
          },
          "metadata": {
            "tags": []
          },
          "execution_count": 1
        }
      ]
    },
    {
      "cell_type": "markdown",
      "metadata": {
        "id": "Kfhg809ogLq2"
      },
      "source": [
        "## **.parse() method**\n"
      ]
    },
    {
      "cell_type": "code",
      "metadata": {
        "colab": {
          "base_uri": "https://localhost:8080/",
          "height": 143
        },
        "id": "w4tZ2sYtfrtD",
        "outputId": "57c1616d-2713-445d-c93b-fddf7c7b92a1"
      },
      "source": [
        "import pandas as pd\n",
        "pd.ExcelFile(\"movies.xlsx\").parse(\"ticket types\")"
      ],
      "execution_count": 3,
      "outputs": [
        {
          "output_type": "execute_result",
          "data": {
            "text/html": [
              "<div>\n",
              "<style scoped>\n",
              "    .dataframe tbody tr th:only-of-type {\n",
              "        vertical-align: middle;\n",
              "    }\n",
              "\n",
              "    .dataframe tbody tr th {\n",
              "        vertical-align: top;\n",
              "    }\n",
              "\n",
              "    .dataframe thead th {\n",
              "        text-align: right;\n",
              "    }\n",
              "</style>\n",
              "<table border=\"1\" class=\"dataframe\">\n",
              "  <thead>\n",
              "    <tr style=\"text-align: right;\">\n",
              "      <th></th>\n",
              "      <th>ticket_type</th>\n",
              "      <th>ticket_price</th>\n",
              "    </tr>\n",
              "  </thead>\n",
              "  <tbody>\n",
              "    <tr>\n",
              "      <th>0</th>\n",
              "      <td>child</td>\n",
              "      <td>8</td>\n",
              "    </tr>\n",
              "    <tr>\n",
              "      <th>1</th>\n",
              "      <td>adult</td>\n",
              "      <td>20</td>\n",
              "    </tr>\n",
              "    <tr>\n",
              "      <th>2</th>\n",
              "      <td>senior</td>\n",
              "      <td>12</td>\n",
              "    </tr>\n",
              "  </tbody>\n",
              "</table>\n",
              "</div>"
            ],
            "text/plain": [
              "  ticket_type  ticket_price\n",
              "0       child             8\n",
              "1       adult            20\n",
              "2      senior            12"
            ]
          },
          "metadata": {
            "tags": []
          },
          "execution_count": 3
        }
      ]
    },
    {
      "cell_type": "markdown",
      "metadata": {
        "id": "31OyHNZcNHVs"
      },
      "source": [
        "# **Prepare tables for merging**\n",
        "\n",
        "*   `.str.lower()`\n",
        "*   `.str.title()`\n",
        "*    `.str.strip()`\n",
        "*   `pd.DataFrame().drop(\"col_to_drop\", axis=1)`\n",
        "\n",
        "# **Left Join = VLOOKUP**\n",
        "\n",
        "*  Use the `.merge()` method on `ticket_type_sales` to join the `ticket_prices` DataFrame on the `ticket_type` column.\n",
        "*  Create a `revenue` column in `sales_complete` that equals `tickets_sold` multiplied by `ticket_price`.\n",
        "\n"
      ]
    },
    {
      "cell_type": "code",
      "metadata": {
        "colab": {
          "base_uri": "https://localhost:8080/"
        },
        "id": "izDO8vzKggeJ",
        "outputId": "9ab3698e-1a95-4aff-deea-513946ea59c6"
      },
      "source": [
        "import pandas as pd\n",
        "df = pd.ExcelFile(\"movies.xlsx\")\n",
        "ticket_prices = df.parse('ticket types')\n",
        "ticket_type_sales = pd.DataFrame(columns=[\"ticket_type\", \"tickets_sold\"], data=[[\"adult\", 1383], [\"child\", 487], [\"senior\", 435]])\n",
        "# Join the tables\n",
        "sales_complete = ticket_type_sales.merge(ticket_prices, on=\"ticket_type\", how=\"left\")\n",
        "\n",
        "# Add a revenue column\n",
        "sales_complete[\"revenue\"] = sales_complete[\"tickets_sold\"] * sales_complete[\"ticket_price\"]\n",
        "\n",
        "# Print the table\n",
        "print(sales_complete)"
      ],
      "execution_count": 1,
      "outputs": [
        {
          "output_type": "stream",
          "text": [
            "  ticket_type  tickets_sold  ticket_price  revenue\n",
            "0       adult          1383            20    27660\n",
            "1       child           487             8     3896\n",
            "2      senior           435            12     5220\n"
          ],
          "name": "stdout"
        }
      ]
    },
    {
      "cell_type": "markdown",
      "metadata": {
        "id": "0FA9spePWYx7"
      },
      "source": [
        ""
      ]
    },
    {
      "cell_type": "code",
      "metadata": {
        "colab": {
          "base_uri": "https://localhost:8080/"
        },
        "id": "tzBG-CoeQ_F6",
        "outputId": "18295cf0-532b-40f2-e91e-4cb35e498ce1"
      },
      "source": [
        "import pandas as pd\n",
        "df = pd.ExcelFile(\"movies.xlsx\")\n",
        "theater_sales = pd.DataFrame(columns=[\"theater_name\",\"tickets_sold\"], data=[[\"Richie's Famous Minimax Theatre\",572], [\"Sumdance Cinemas\", 584], [\"The Empirical House\", 554], [\"The Frame\", 595]])\n",
        "theater_info = df.parse(\"theaters\")\n",
        "theater_info[\"theater\"] = theater_info[\"theater_name\"]\n",
        "theater_info.drop(\"theater_name\", axis=1)\n",
        "\n",
        "# Join the tables\n",
        "sales_join = theater_sales.merge(theater_info, left_on=\"theater_name\", right_on=\"theater_name\")\n",
        "\n",
        "# Drop the redundant theater column\n",
        "sales_complete = sales_join.drop(\"theater\", axis=1)\n",
        "\n",
        "# Print the table\n",
        "print(sales_complete)"
      ],
      "execution_count": 32,
      "outputs": [
        {
          "output_type": "stream",
          "text": [
            "                      theater_name  tickets_sold theater_location\n",
            "0  Richie's Famous Minimax Theatre           572      Los Angeles\n",
            "1                 Sumdance Cinemas           584      Los Angeles\n",
            "2              The Empirical House           554         New York\n",
            "3                        The Frame           595         Portland\n"
          ],
          "name": "stdout"
        }
      ]
    },
    {
      "cell_type": "code",
      "metadata": {
        "id": "hMsqFDp9ada4"
      },
      "source": [
        "# Merge transaction data with the movie data on movie_title\n",
        "transactions_with_genres = transactions.merge(movies, on=\"movie_title\", how=\"left\")\n",
        "\n",
        "# Group by movie_genre and call the sum method\n",
        "genre_summary = transactions_with_genres.groupby(\"movie_genre\", as_index=False).sum()\n",
        "\n",
        "# Sort the genre summary by ticket_quantity\n",
        "genre_summary_sorted = genre_summary.sort_values('ticket_quantity', ascending=False).reset_index(drop=True)\n",
        "\n",
        "# View the summary\n",
        "print(genre_summary_sorted)"
      ],
      "execution_count": null,
      "outputs": []
    },
    {
      "cell_type": "markdown",
      "metadata": {
        "id": "q0SGu6QVZqaK"
      },
      "source": [
        "# **Plotting**\n",
        "\n",
        "## **Top grossing films**\n",
        "* Use `sns.barplot()` to create a graph of `movie_totals` with `revenue` on the x axis and `movie_title` on the y-axis.\n",
        "* Try putting your numbers on the x-axis and your qualitative information on the y-axis, especially when you have more than 4 or 5 line items to display."
      ]
    },
    {
      "cell_type": "code",
      "metadata": {
        "colab": {
          "base_uri": "https://localhost:8080/",
          "height": 279
        },
        "id": "VDBVl1jBbc7l",
        "outputId": "28df1bf9-d372-48a1-ba9e-874c86e1eacb"
      },
      "source": [
        "import pandas as pd \n",
        "import seaborn as sns\n",
        "import matplotlib.pyplot as plt\n",
        "\n",
        "# Prepare the sales dataframe\n",
        "df = pd.ExcelFile(\"movies.xlsx\")\n",
        "df_sales, df_types, df_theaters, df_movies = df.parse(\"sales\"), df.parse(\"ticket types\"), df.parse(\"theaters\"), df.parse(\"movies\")\n",
        "sales = df_sales.merge(df_theaters, on=\"theater_name\", how=\"left\").merge(df_movies[[\"movie_title\", \"movie_genre\"]], on=\"movie_title\", how=\"left\").merge(df_types, on=\"ticket_type\", how=\"left\")\n",
        "sales[\"revenue\"] = sales[\"ticket_quantity\"]*sales[\"ticket_price\"]\n",
        "sales = sales[[\"theater_location\", \"movie_title\",  \"movie_genre\", \"ticket_type\", \"ticket_quantity\",  \"ticket_price\",  \"revenue\"]]\n",
        "\n",
        "movie_totals = sales.groupby('movie_title', as_index=False).sum()\n",
        "movie_totals = movie_totals.sort_values('revenue', ascending=False).reset_index(drop=True)\n",
        "\n",
        "# Create barplot\n",
        "sns.barplot(x='revenue', y='movie_title', data=movie_totals)\n",
        "\n",
        "# Display barplot\n",
        "plt.show()\n"
      ],
      "execution_count": 17,
      "outputs": [
        {
          "output_type": "display_data",
          "data": {
            "image/png": "[encoded data removed]",
            "text/plain": [
              "<Figure size 432x288 with 1 Axes>"
            ]
          },
          "metadata": {
            "tags": [],
            "needs_background": "light"
          }
        }
      ]
    },
    {
      "cell_type": "markdown",
      "metadata": {
        "id": "1xiWIDXkgYnn"
      },
      "source": [
        "# **Best genres**\n",
        "\n",
        "* Use `sns.barplot()` to create a graph of genre_totals with `movie_genre` on the x axis and revenue on the y-axis."
      ]
    },
    {
      "cell_type": "code",
      "metadata": {
        "colab": {
          "base_uri": "https://localhost:8080/",
          "height": 295
        },
        "id": "VhCvxu2pbo2U",
        "outputId": "ee1a09f3-ab14-4b16-a5bf-ebbda99aebe0"
      },
      "source": [
        "import pandas as pd \n",
        "import seaborn as sns\n",
        "import matplotlib.pyplot as plt\n",
        "\n",
        "# Prepare the sales dataframe\n",
        "df = pd.ExcelFile(\"movies.xlsx\")\n",
        "df_sales, df_types, df_theaters, df_movies = df.parse(\"sales\"), df.parse(\"ticket types\"), df.parse(\"theaters\"), df.parse(\"movies\")\n",
        "sales = df_sales.merge(df_theaters, on=\"theater_name\", how=\"left\").merge(df_movies[[\"movie_title\", \"movie_genre\"]], on=\"movie_title\", how=\"left\").merge(df_types, on=\"ticket_type\", how=\"left\")\n",
        "sales[\"revenue\"] = sales[\"ticket_quantity\"]*sales[\"ticket_price\"]\n",
        "sales = sales[[\"theater_location\", \"movie_title\",  \"movie_genre\", \"ticket_type\", \"ticket_quantity\",  \"ticket_price\",  \"revenue\"]]\n",
        "genre_totals = sales.groupby('movie_genre', as_index=False).sum()\n",
        "genre_totals = genre_totals.sort_values('revenue', ascending=False).reset_index(drop=True)\n",
        "\n",
        "# Create barplot\n",
        "sns.set_style(\"whitegrid\")\n",
        "sns.barplot(x=\"movie_genre\", y=\"revenue\", data=genre_totals)\n",
        "plt.title(\"Revenue by Genre\")\n",
        "plt.xlabel(\"Movie Genre\")\n",
        "plt.ylabel(\"Revenue (USD)\")\n",
        "sns.despine()\n",
        "# Display barplot\n",
        "plt.show()\n"
      ],
      "execution_count": 5,
      "outputs": [
        {
          "output_type": "display_data",
          "data": {
            "image/png": "[encoded data removed]",
            "text/plain": [
              "<Figure size 432x288 with 1 Axes>"
            ]
          },
          "metadata": {
            "tags": []
          }
        }
      ]
    },
    {
      "cell_type": "markdown",
      "metadata": {
        "id": "Uph_vNQ7zF0B"
      },
      "source": [
        "## **Hue**\n",
        "\n",
        "* Create a bar plot of `genre_market_totals` with `theater_location` on the x-axis, `revenue` on the y-axis, and `hue` broken down by `movie_genre`.\n",
        "* Add the title `Genre Performance by Market`, as well as the x- and y-axis labels as `Market` and `Revenue (USD)`, respectively."
      ]
    },
    {
      "cell_type": "code",
      "metadata": {
        "colab": {
          "base_uri": "https://localhost:8080/",
          "height": 295
        },
        "id": "YZlOKkeLbt6p",
        "outputId": "5322b104-b8e7-4798-de84-fe71e245f028"
      },
      "source": [
        "import pandas as pd \n",
        "import seaborn as sns\n",
        "import matplotlib.pyplot as plt\n",
        "\n",
        "# Prepare the sales dataframe\n",
        "df = pd.ExcelFile(\"movies.xlsx\")\n",
        "df_sales, df_types, df_theaters, df_movies = df.parse(\"sales\"), df.parse(\"ticket types\"), df.parse(\"theaters\"), df.parse(\"movies\")\n",
        "sales = df_sales.merge(df_theaters, on=\"theater_name\", how=\"left\").merge(df_movies[[\"movie_title\", \"movie_genre\"]], on=\"movie_title\", how=\"left\").merge(df_types, on=\"ticket_type\", how=\"left\")\n",
        "sales[\"revenue\"] = sales[\"ticket_quantity\"]*sales[\"ticket_price\"]\n",
        "sales = sales[[\"theater_location\", \"movie_title\",  \"movie_genre\", \"ticket_type\", \"ticket_quantity\",  \"ticket_price\",  \"revenue\"]]\n",
        "\n",
        "# Create genre_market_totals\n",
        "genre_market_totals = sales.groupby(['movie_genre', \"theater_location\"], as_index=False).sum()\n",
        "genre_market_totals = genre_market_totals.sort_values('revenue', ascending=False).reset_index(drop=True).drop(\"ticket_price\", axis=1)   \n",
        "\n",
        "# Create barplot\n",
        "sns.barplot(x=\"theater_location\", y=\"revenue\", hue=\"movie_genre\", data=genre_market_totals)\n",
        "\n",
        "# Add labels\n",
        "plt.title('Genre Performance by Market')\n",
        "plt.xlabel('Market')\n",
        "plt.ylabel('Revenue (USD)')\n",
        "\n",
        "plt.show()\n",
        "\n"
      ],
      "execution_count": 3,
      "outputs": [
        {
          "output_type": "display_data",
          "data": {
            "image/png": "[encoded data removed]",
            "text/plain": [
              "<Figure size 432x288 with 1 Axes>"
            ]
          },
          "metadata": {
            "tags": [],
            "needs_background": "light"
          }
        }
      ]
    },
    {
      "cell_type": "markdown",
      "metadata": {
        "id": "wi3ZbL8k2drY"
      },
      "source": [
        "## **Genre by ticket type**\n",
        "\n",
        "* Create a bar plot of `genre_ticket_totals` with `ticket_type` on the x-axis, `ticket_quantity` on the y-axis, and hue broken down by `movie_genre`.\n",
        "* Add the title `Genre Turnout by Ticket Type`, as well as x- and y-axis labels as `Ticket Type` and `Tickets Sold`, respectively."
      ]
    },
    {
      "cell_type": "code",
      "metadata": {
        "colab": {
          "base_uri": "https://localhost:8080/",
          "height": 295
        },
        "id": "JeqnWSu7c93U",
        "outputId": "dd5031c4-0905-4c10-88d9-b44c3348b79d"
      },
      "source": [
        "import pandas as pd \n",
        "import seaborn as sns\n",
        "import matplotlib.pyplot as plt\n",
        "\n",
        "# Prepare the sales dataframe\n",
        "df = pd.ExcelFile(\"movies.xlsx\")\n",
        "df_sales, df_types, df_theaters, df_movies = df.parse(\"sales\"), df.parse(\"ticket types\"), df.parse(\"theaters\"), df.parse(\"movies\")\n",
        "sales = df_sales.merge(df_theaters, on=\"theater_name\", how=\"left\").merge(df_movies[[\"movie_title\", \"movie_genre\"]], on=\"movie_title\", how=\"left\").merge(df_types, on=\"ticket_type\", how=\"left\")\n",
        "sales[\"revenue\"] = sales[\"ticket_quantity\"]*sales[\"ticket_price\"]\n",
        "sales = sales[[\"theater_location\", \"movie_title\",  \"movie_genre\", \"ticket_type\", \"ticket_quantity\",  \"ticket_price\",  \"revenue\"]]\n",
        "\n",
        "# Create genre_ticket_totals\n",
        "genre_ticket_totals = sales.groupby(['movie_genre', \"ticket_type\"], as_index=False).sum()\n",
        "genre_ticket_totals = genre_ticket_totals.sort_values('revenue', ascending=False).reset_index(drop=True).drop(\"ticket_price\", axis=1)   \n",
        "\n",
        "# Create barplot\n",
        "sns.barplot(data=genre_ticket_totals, x=\"ticket_type\", y=\"ticket_quantity\", hue=\"movie_genre\")\n",
        "\n",
        "# Add labels\n",
        "plt.title(\"Genre Turnout by Ticket Type\")\n",
        "plt.xlabel(\"Ticket Type\")\n",
        "plt.ylabel(\"Tickets Sold\")\n",
        "\n",
        "plt.show()\n"
      ],
      "execution_count": 7,
      "outputs": [
        {
          "output_type": "display_data",
          "data": {
            "image/png": "[encoded data removed]",
            "text/plain": [
              "<Figure size 432x288 with 1 Axes>"
            ]
          },
          "metadata": {
            "tags": [],
            "needs_background": "light"
          }
        }
      ]
    },
    {
      "cell_type": "code",
      "metadata": {
        "id": "wTHz_-hy3S1g"
      },
      "source": [
        ""
      ],
      "execution_count": null,
      "outputs": []
    }
  ]
}